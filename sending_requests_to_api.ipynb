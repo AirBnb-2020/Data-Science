{
 "cells": [
  {
   "cell_type": "code",
   "execution_count": 1,
   "metadata": {},
   "outputs": [
    {
     "name": "stdout",
     "output_type": "stream",
     "text": [
      "Requirement already satisfied: requests in c:\\users\\patch\\anaconda3\\lib\\site-packages (2.22.0)\n",
      "Requirement already satisfied: idna<2.9,>=2.5 in c:\\users\\patch\\anaconda3\\lib\\site-packages (from requests) (2.8)\n",
      "Requirement already satisfied: urllib3!=1.25.0,!=1.25.1,<1.26,>=1.21.1 in c:\\users\\patch\\anaconda3\\lib\\site-packages (from requests) (1.24.2)\n",
      "Requirement already satisfied: chardet<3.1.0,>=3.0.2 in c:\\users\\patch\\anaconda3\\lib\\site-packages (from requests) (3.0.4)\n",
      "Requirement already satisfied: certifi>=2017.4.17 in c:\\users\\patch\\anaconda3\\lib\\site-packages (from requests) (2019.9.11)\n",
      "Note: you may need to restart the kernel to use updated packages.\n"
     ]
    }
   ],
   "source": [
    "pip install requests"
   ]
  },
  {
   "cell_type": "code",
   "execution_count": 202,
   "metadata": {},
   "outputs": [],
   "source": [
    "import requests"
   ]
  },
  {
   "cell_type": "code",
   "execution_count": 218,
   "metadata": {},
   "outputs": [
    {
     "data": {
      "text/html": [
       "<img src=\"https://www.dgtlnk.com/wp-content/uploads/airbnb_logo_detail.jpg\"/>"
      ],
      "text/plain": [
       "<IPython.core.display.Image object>"
      ]
     },
     "execution_count": 218,
     "metadata": {},
     "output_type": "execute_result"
    }
   ],
   "source": [
    "from IPython.display import Image\n",
    "from IPython.core.display import HTML \n",
    "Image(url= \"https://www.dgtlnk.com/wp-content/uploads/airbnb_logo_detail.jpg\")"
   ]
  },
  {
   "cell_type": "markdown",
   "metadata": {},
   "source": [
    "#### _<center>Welcome to our completely functional airbnb Optimal Price application!</center>_\n",
    "---"
   ]
  },
  {
   "cell_type": "code",
   "execution_count": 246,
   "metadata": {},
   "outputs": [
    {
     "data": {
      "text/html": [
       "<img src=\"https://files.slack.com/files-pri/T4JUEB3ME-FSKCUUJDD/screen_shot_2020-01-10_at_11.15.30_am.png\"/>"
      ],
      "text/plain": [
       "<IPython.core.display.Image object>"
      ]
     },
     "execution_count": 246,
     "metadata": {},
     "output_type": "execute_result"
    }
   ],
   "source": [
    "Image(url='https://files.slack.com/files-pri/T4JUEB3ME-FSKCUUJDD/screen_shot_2020-01-10_at_11.15.30_am.png')"
   ]
  },
  {
   "cell_type": "markdown",
   "metadata": {},
   "source": [
    "#### _<center>Take a look at that beautiful home page</center>_\n",
    "---"
   ]
  },
  {
   "cell_type": "code",
   "execution_count": 247,
   "metadata": {},
   "outputs": [
    {
     "data": {
      "text/html": [
       "<img src=\"https://files.slack.com/files-pri/T4JUEB3ME-FSHHARCTX/screen_shot_2020-01-10_at_11.16.44_am.png\"/>"
      ],
      "text/plain": [
       "<IPython.core.display.Image object>"
      ]
     },
     "execution_count": 247,
     "metadata": {},
     "output_type": "execute_result"
    }
   ],
   "source": [
    "Image(url='https://files.slack.com/files-pri/T4JUEB3ME-FSHHARCTX/screen_shot_2020-01-10_at_11.16.44_am.png')"
   ]
  },
  {
   "cell_type": "markdown",
   "metadata": {},
   "source": [
    "#### _<center>Where to input your listings</center>_\n",
    "---"
   ]
  },
  {
   "cell_type": "markdown",
   "metadata": {},
   "source": [
    "## Sending requests to our API"
   ]
  },
  {
   "cell_type": "code",
   "execution_count": 244,
   "metadata": {},
   "outputs": [],
   "source": [
    "url = 'http://air-bnb-optimizer-model-engine.herokuapp.com/json'\n",
    "params = {\n",
    "    'neighbourhood_group_cleansed': 'Mitte',\n",
    "    'room_type': 'Entire home/apt',\n",
    "    'accommodates': 3.0,\n",
    "    'bathrooms': 1.0,\n",
    "    'bedrooms': 1.0,\n",
    "    'beds': 2.0,\n",
    "    'bed_type': 'Real Bed',\n",
    "    'security_deposit': 200,\n",
    "    'cleaning_fee': 30,\n",
    "    'minimum_nights': 10,\n",
    "    'amenities': 'Hair dryer, Family/kid friendly, Laptop friendly workspace, Hangers, Iron, Shampoo, Smoke detector, Lock on bedroom door, Bed linens, Cable TV'\n",
    "}"
   ]
  },
  {
   "cell_type": "code",
   "execution_count": 245,
   "metadata": {},
   "outputs": [
    {
     "data": {
      "text/plain": [
       "{'results': 69}"
      ]
     },
     "execution_count": 245,
     "metadata": {},
     "output_type": "execute_result"
    }
   ],
   "source": [
    "requests.get(url = url, json = params).json()"
   ]
  },
  {
   "cell_type": "markdown",
   "metadata": {},
   "source": [
    "---"
   ]
  },
  {
   "cell_type": "code",
   "execution_count": 249,
   "metadata": {},
   "outputs": [
    {
     "data": {
      "text/plain": [
       "{'results': 27}"
      ]
     },
     "execution_count": 249,
     "metadata": {},
     "output_type": "execute_result"
    }
   ],
   "source": [
    "params = {\n",
    "    'neighbourhood_group_cleansed': 'Tempelhof - Schöneberg',\n",
    "    'room_type': 'Private room',\n",
    "    'accommodates': 1.0,\n",
    "    'bathrooms': 1.0,\n",
    "    'bedrooms': 1.0,\n",
    "    'beds': 1.0,\n",
    "    'bed_type': 'Pull-out Sofa',\n",
    "    'security_deposit': 250,\n",
    "    'cleaning_fee': 30,\n",
    "    'minimum_nights': 30,\n",
    "    'amenities': 'Washer, Hair dryer, Cable TV'\n",
    "}\n",
    "requests.get(url = url, json = params).json()"
   ]
  },
  {
   "cell_type": "markdown",
   "metadata": {},
   "source": [
    "---"
   ]
  },
  {
   "cell_type": "code",
   "execution_count": 250,
   "metadata": {},
   "outputs": [
    {
     "data": {
      "text/plain": [
       "{'results': 202}"
      ]
     },
     "execution_count": 250,
     "metadata": {},
     "output_type": "execute_result"
    }
   ],
   "source": [
    "params = {\n",
    "    'neighbourhood_group_cleansed': 'Pankow',\n",
    "    'room_type': 'Private room',\n",
    "    'accommodates': 7.0,\n",
    "    'bathrooms': 3.0,\n",
    "    'bedrooms': 4.0,\n",
    "    'beds': 7.0,\n",
    "    'bed_type': 'Real Bed',\n",
    "    'security_deposit': 450,\n",
    "    'cleaning_fee': 80,\n",
    "    'minimum_nights': 6,\n",
    "    'amenities': 'Washer, Hair dryer, Family/kid friendly, Smoke detector, Lock on bedroom door, Bed linens, Cable TV'\n",
    "}\n",
    "requests.get(url = url, json = params).json()"
   ]
  },
  {
   "cell_type": "code",
   "execution_count": null,
   "metadata": {},
   "outputs": [],
   "source": []
  }
 ],
 "metadata": {
  "kernelspec": {
   "display_name": "Python 3",
   "language": "python",
   "name": "python3"
  },
  "language_info": {
   "codemirror_mode": {
    "name": "ipython",
    "version": 3
   },
   "file_extension": ".py",
   "mimetype": "text/x-python",
   "name": "python",
   "nbconvert_exporter": "python",
   "pygments_lexer": "ipython3",
   "version": "3.7.4"
  }
 },
 "nbformat": 4,
 "nbformat_minor": 4
}
